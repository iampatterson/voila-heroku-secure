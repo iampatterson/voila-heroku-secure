{
 "cells": [
  {
   "cell_type": "code",
   "execution_count": null,
   "metadata": {},
   "outputs": [],
   "source": [
    "import numpy as np\n",
    "import pandas as pd\n",
    "import requests\n",
    "from sklearn.cluster import KMeans\n",
    "import matplotlib.pyplot as plt\n",
    "import seaborn as sns\n",
    "from IPython.display import Javascript, display\n",
    "from ipywidgets import widgets \n",
    "from ipywidgets import interact\n",
    "from sklearn.preprocessing import StandardScaler\n",
    "from sklearn.datasets import make_classification\n",
    "from sklearn.ensemble import ExtraTreesClassifier\n",
    "from collections import defaultdict\n",
    "from sklearn.manifold import TSNE\n",
    "import warnings\n",
    "warnings.filterwarnings('ignore')\n",
    "%matplotlib inline\n",
    "from matplotlib.pyplot import figure\n",
    "#from IPython.display import Image\n",
    "from datetime import datetime\n",
    "import ipywidgets as widgets # widget install\n",
    "from IPython.display import display #widget install\n",
    "from IPython.display import clear_output\n",
    "#from IPython.utils import utils\n",
    "#output = widgets.Output()"
   ]
  },
  {
   "cell_type": "code",
   "execution_count": null,
   "metadata": {},
   "outputs": [],
   "source": [
    "from IPython.display import HTML\n",
    "\n",
    "HTML('''<script>\n",
    "code_show=true; \n",
    "function code_toggle() {\n",
    " if (code_show){\n",
    " $('div.input').hide();\n",
    " } else {\n",
    " $('div.input').show();\n",
    " }\n",
    " code_show = !code_show\n",
    "} \n",
    "$( document ).ready(code_toggle);\n",
    "</script>\n",
    "The raw code for this IPython notebook is by default hidden for easier reading.\n",
    "To toggle on/off the raw code, click <a href=\"javascript:code_toggle()\">here</a>.''')"
   ]
  },
  {
   "cell_type": "code",
   "execution_count": null,
   "metadata": {},
   "outputs": [],
   "source": [
    "from IPython.display import Javascript, display\n",
    "from ipywidgets import widgets \n",
    "from ipywidgets import interact\n",
    "\n",
    "def run_all(ev):\n",
    "    display(Javascript('IPython.notebook.execute_cells_below()'))\n",
    "\n",
    "button = widgets.Button(description=\"Restart everything\")\n",
    "button.on_click(run_all)\n",
    "display(button)"
   ]
  },
  {
   "cell_type": "code",
   "execution_count": null,
   "metadata": {},
   "outputs": [],
   "source": [
    "df = pd.read_csv('MP.csv', skiprows=1)\n",
    "\n",
    "df[\"Union\"]=df[\"Union\"].astype('str')\n",
    "df.Orders_Trade = df.Orders_Trade.astype('str')\n",
    "df.ClassificationRequested = df.ClassificationRequested.astype('str')\n",
    "df[\"RequiredDate\"] = pd.to_datetime(df[\"RequiredDate\"])\n",
    "df[\"A&_Test_Booked\"] = pd.to_datetime(df[\"A&_Test_Booked\"])\n",
    "df[\"Fall Arrest Date\"] = pd.to_datetime(df[\"Fall Arrest Date\"])\n",
    "df[\"Orientation Date\"] = pd.to_datetime(df[\"Orientation Date\"])\n",
    "df[\"LOTTO Date\"] = pd.to_datetime(df[\"LOTTO Date\"])\n",
    "df[\"Confined Space Date\"] = pd.to_datetime(df[\"Confined Space Date\"])\n",
    "df[\"Aerial Work Date\"] = pd.to_datetime(df[\"Aerial Work Date\"])\n",
    "\n",
    "#A&D test booked\n",
    "df['Requried to A&T booked'] = df['A&_Test_Booked'] - df['RequiredDate'] \n",
    "df['Requried to A&T booked'] = df['Requried to A&T booked']/np.timedelta64(1,'D')\n",
    "\n",
    "#Fall Arrest Date\n",
    "df['Requried to Fall'] = df['Fall Arrest Date'] - df['RequiredDate']\n",
    "df['Requried to Fall'] = df['Requried to Fall']/np.timedelta64(1,'D')\n",
    "\n",
    "#Aerial Work Date\n",
    "df['Requried to Aerial'] = df['Aerial Work Date'] - df['RequiredDate']\n",
    "df['Requried to Aerial'] = df['Requried to Aerial']/np.timedelta64(1,'D')\n",
    "\n",
    "#Lotto Date\n",
    "df['Requried to Lotto'] = df['LOTTO Date'] - df['RequiredDate'] \n",
    "df['Requried to Lotto'] = df['Requried to Lotto']/np.timedelta64(1,'D')\n",
    "\n",
    "#Confined Space \n",
    "df['Requried to Conf Space'] = df['Confined Space Date'] - df['RequiredDate']\n",
    "df['Requried to Conf Space'] = df['Requried to Conf Space']/np.timedelta64(1,'D')\n",
    "\n",
    "#Orientation Date\n",
    "df['Requried to Orient Date'] = df['Orientation Date'] - df['RequiredDate'] \n",
    "df['Requried to Orient Date'] = df['Requried to Orient Date']/np.timedelta64(1,'D')\n",
    "\n",
    "df=df.fillna(0)\n"
   ]
  },
  {
   "cell_type": "code",
   "execution_count": null,
   "metadata": {
    "scrolled": true
   },
   "outputs": [],
   "source": [
    "output = widgets.Output()\n",
    "\n",
    "ALL = 'ALL'\n",
    "\n",
    "def unique_sorted_values_plus_ALL(array): \n",
    "    unique = array.unique().tolist()\n",
    "    unique.sort()\n",
    "    unique.insert(0, ALL)\n",
    "    return unique\n",
    "\n",
    "common_filter = pd.DataFrame()\n",
    "\n",
    "dropdown_trade  = widgets.Dropdown(options = unique_sorted_values_plus_ALL(df.Orders_Trade),description=\"Trade\")\n",
    "dropdown_union = widgets.Dropdown(options = unique_sorted_values_plus_ALL(df.Union),description=\"Union\")\n",
    "dropdown_skill   = widgets.Dropdown(options = unique_sorted_values_plus_ALL(df.ClassificationRequested),description=\"Skill\")\n",
    "\n",
    "def common_filtering (trade, union, skill):\n",
    "    global common_filter\n",
    "    output.clear_output()\n",
    "    \n",
    "    if (trade == ALL) & (union == ALL) & (skill == ALL):\n",
    "        common_filter = df\n",
    "    \n",
    "    elif (trade == ALL) & (union == ALL):\n",
    "        common_filter = df[df.ClassificationRequested == skill]\n",
    "\n",
    "    elif (trade == ALL) & (skill==ALL):\n",
    "        common_filter= df[df.Union == union]\n",
    "        \n",
    "    elif (skill == ALL) & (union == ALL):\n",
    "        common_filter= df[df.Orders_Trade == trade]\n",
    "    \n",
    "    elif (union == ALL)& (trade != ALL) & (skill != ALL):\n",
    "        common_filter = df[(df.Orders_Trade == trade) & (df.ClassificationRequested == skill)]   \n",
    "    elif (skill == ALL) & (trade != ALL) & (union != ALL):\n",
    "        common_filter = df[(df.Orders_Trade == trade) & (df.Union == union)]\n",
    "    \n",
    "    elif (trade == ALL) & (skill != ALL) & (union !=ALL) :\n",
    "        common_filter = df[(df.ClassificationRequested == skill) & df.Union == union]\n",
    "    \n",
    "    else:\n",
    "        common_filter = df[(df.Orders_Trade == trade) & (df.Union == union) & (df.ClassificationRequested == skill)]\n",
    "        \n",
    "    with output:\n",
    "        display(common_filter)\n",
    "        \n",
    "\n",
    "if len(common_filter) == 0:\n",
    "    common_filter = df\n",
    "\n",
    "else:\n",
    "    common_filter = common_filter\n",
    "    \n",
    "\n",
    "def dropdown_trade_eventhandler(change):\n",
    "    common_filtering(change.new, dropdown_union.value, dropdown_skill.value)\n",
    "\n",
    "def dropdown_union_eventhandler(change):\n",
    "    common_filtering(dropdown_trade.value, change.new, dropdown_skill.value)\n",
    "\n",
    "def dropdown_skill_eventhandler(change):\n",
    "    common_filtering(dropdown_trade.value, dropdown_union.value, change.new)\n",
    "\n",
    "\n",
    "dropdown_trade.observe(dropdown_trade_eventhandler, names='value')\n",
    "dropdown_union.observe(dropdown_union_eventhandler, names='value')\n",
    "dropdown_skill.observe(dropdown_skill_eventhandler, names='value')\n",
    "\n",
    "#display(dropdown_trade)\n",
    "#display(dropdown_union)\n",
    "#display(dropdown_skill)\n",
    "\n",
    "print(\"Please select at least one dropdown and press the Refresh button below\")"
   ]
  },
  {
   "cell_type": "code",
   "execution_count": null,
   "metadata": {},
   "outputs": [],
   "source": [
    "widgets.Dropdown(options = unique_sorted_values_plus_ALL(df.Orders_Trade),description=\"Trade\")"
   ]
  },
  {
   "cell_type": "code",
   "execution_count": null,
   "metadata": {},
   "outputs": [],
   "source": [
    "widgets.Dropdown(options = unique_sorted_values_plus_ALL(df.Union),description=\"Union\")"
   ]
  },
  {
   "cell_type": "code",
   "execution_count": null,
   "metadata": {},
   "outputs": [],
   "source": [
    "widgets.Dropdown(options = unique_sorted_values_plus_ALL(df.ClassificationRequested),description=\"Skill\")"
   ]
  },
  {
   "cell_type": "code",
   "execution_count": null,
   "metadata": {
    "scrolled": true
   },
   "outputs": [],
   "source": [
    "def run_all(ev):\n",
    "    display(Javascript('IPython.notebook.execute_cells_below()'))\n",
    "\n",
    "button = widgets.Button(description=\"Refresh\")\n",
    "button.on_click(run_all)\n",
    "display(button)"
   ]
  },
  {
   "cell_type": "code",
   "execution_count": null,
   "metadata": {
    "scrolled": true
   },
   "outputs": [],
   "source": [
    "df2=common_filter\n",
    "\n",
    "dflook=df2[['Requried to A&T booked',\n",
    "       'Requried to Fall', 'Requried to Aerial', 'Requried to Lotto',\n",
    "       'Requried to Conf Space', 'Requried to Orient Date']]\n",
    "dflook = dflook.fillna(0)\n",
    "dflook = dflook.dropna(thresh=1)\n",
    "dflook.astype('timedelta64[D]')\n",
    "print()\n",
    "\n",
    "# Using Standard Scaler to Scale Data\n",
    "scaler = StandardScaler()\n",
    "#X=scaler.fit_transform(df) \n",
    "X=scaler.fit_transform(dflook) \n",
    "dflook.shape\n",
    "\n",
    "# Loop through kmeans using 2-12 clusters, default estimators set to 100\n",
    "index_dict = defaultdict(list)\n",
    "index_fi = defaultdict(list)\n",
    "for index in range(2,12,2):\n",
    "    Kmean = KMeans(n_clusters=index)\n",
    "    Kmean.fit(X)\n",
    "    target_vals = pd.Series(Kmean.labels_)\n",
    "    y = target_vals\n",
    "    \n",
    "    clf=ExtraTreesClassifier(n_estimators=100,\n",
    "                              random_state=0)\n",
    "    clf = clf.fit(X,y)\n",
    "    importances = clf.feature_importances_\n",
    "    std = np.std([tree.feature_importances_ for tree in clf.estimators_],\n",
    "             axis=0)\n",
    "    indices = np.argsort(importances)[::-1]\n",
    "    index_fi[index] = np.sort(importances)[::-1]\n",
    "    index_dict[index]=indices\n",
    "\n",
    "# Create a dict with the values to plot.\n",
    "new_dict = defaultdict(list)\n",
    "for k in range(0,5):\n",
    "    for val in list(index_dict.keys()):\n",
    "        pos = np.where(index_dict[val]==k) # Index position for value equal to k\n",
    "        new_dict[k].append(12-pos[0][0])\n",
    "        \n",
    "#Plotting theimportance of features based on 2 clusters. \n",
    "column_names = dflook.columns\n",
    "plt.figure(figsize=(20,15))\n",
    "plt.bar(column_names[index_dict[2]],  index_fi[2])\n",
    "plt.xlabel('Time Between Events', fontsize=18)\n",
    "plt.ylabel('Feature Importance Ranking (Percentage of importance)',fontsize=18)\n",
    "plt.title('Importance Score of Features using 2 clusters', fontsize=18)\n",
    "plt.xticks(rotation=90, fontsize=18)\n",
    "plt.xticks(fontsize=18)\n",
    "plt.yticks(fontsize=18)\n",
    "cols_order = column_names[index_dict[2]]\n",
    "\n",
    "\n",
    "# correlation matrix for time\n",
    "Correlation=dflook.corr()\n",
    "plt.figure(figsize=(15, 15))\n",
    "sns.heatmap(Correlation,annot=True)\n",
    "\n",
    "# correlation matrix for all\n",
    "Correlation=df.corr()\n",
    "plt.figure(figsize=(15, 15))\n",
    "sns.heatmap(Correlation,annot=True)"
   ]
  },
  {
   "cell_type": "code",
   "execution_count": null,
   "metadata": {},
   "outputs": [],
   "source": []
  }
 ],
 "metadata": {
  "kernelspec": {
   "display_name": "Python 3",
   "language": "python",
   "name": "python3"
  },
  "language_info": {
   "codemirror_mode": {
    "name": "ipython",
    "version": 3
   },
   "file_extension": ".py",
   "mimetype": "text/x-python",
   "name": "python",
   "nbconvert_exporter": "python",
   "pygments_lexer": "ipython3",
   "version": "3.7.6"
  },
  "widgets": {
   "state": {
    "35fdd7a1c849429b951e95e7fb7d4d15": {
     "views": [
      {
       "cell_index": 5
      }
     ]
    },
    "7c809bfd9f0540b1a3ac09a03891bb4d": {
     "views": [
      {
       "cell_index": 6
      }
     ]
    },
    "b8bbe868b0b444a88e5967d4e9556d8e": {
     "views": [
      {
       "cell_index": 4
      },
      {
       "cell_index": 5
      }
     ]
    },
    "f112334a23164ccbb759ce25295079f2": {
     "views": [
      {
       "cell_index": 5
      }
     ]
    }
   },
   "version": "1.2.0"
  }
 },
 "nbformat": 4,
 "nbformat_minor": 2
}
